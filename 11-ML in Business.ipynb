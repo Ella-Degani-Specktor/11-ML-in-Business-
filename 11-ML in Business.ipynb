{
 "cells": [
  {
   "cell_type": "markdown",
   "id": "c754efd4",
   "metadata": {},
   "source": [
    "# Project description"
   ]
  },
  {
   "cell_type": "markdown",
   "id": "9e15d9bf",
   "metadata": {},
   "source": [
    "We work for OilyGiant mining company. Our task is to find the best place for a new well by using data on oil samples from three regions. Parameters of each oil well in the region are already known. We need to build a model that will help to pick the region with the highest profit margin and then analyze potential profit and risks using the Bootstrapping technique.\n",
    "\n",
    "**Steps to choose location:**\n",
    "- Collect oil well parameters in the selected region: oil quality and volume of reserves.\n",
    "- Build a model for predicting the volume of reserves in the new wells.\n",
    "- Pick oil wells with highest estimated values.\n",
    "- Pick region with highest total profit for the selected oil wells."
   ]
  },
  {
   "cell_type": "markdown",
   "id": "6f59e032",
   "metadata": {},
   "source": [
    "# Data description"
   ]
  },
  {
   "cell_type": "markdown",
   "id": "28e82bdd",
   "metadata": {},
   "source": [
    "**Columns:**\n",
    "- `id` — unique oil well identifier\n",
    "- `f0`, `f1`, `f2` — three features of points (their specific meaning is unimportant, but the features themselves are significant)\n",
    "- `product` — volume of reserves in the oil well (thousand barrels).\n",
    "\n",
    "**Conditions:**\n",
    "- Only linear regression is suitable for model training (rest are not sufficiently predictable).\n",
    "- When exploring region, a study of 500 points is carried with picking best 200 points for profit calculation.\n",
    "- Budget for development of 200 oil wells is 100 million USD.\n",
    "- One barrel of raw materials brings 4.5 USD of revenue. Revenue from one unit of product is 4,500 USD (volume of reserves is in thousand barrels).\n",
    "- After risk evaluation, only regions with the risk of losses lower than 2.5% are kept and from those that fit criteria, region with highest average profit is selected.\n",
    "\n",
    "The data is synthetic: contract details and well characteristics are not disclosed."
   ]
  },
  {
   "cell_type": "markdown",
   "id": "7062bd51",
   "metadata": {},
   "source": [
    "# Library imports"
   ]
  },
  {
   "cell_type": "code",
   "execution_count": 1,
   "id": "e9f309fa",
   "metadata": {},
   "outputs": [],
   "source": [
    "#Libraries and project environment setup:\n",
    "\n",
    "##Pandas, Numpy, Re and Datetime for data preprocessing and manipulation\n",
    "import pandas as pd\n",
    "import numpy as np\n",
    "\n",
    "##Remove warnings\n",
    "import sys\n",
    "import warnings\n",
    "if not sys.warnoptions:\n",
    "    warnings.simplefilter(\"ignore\")\n",
    "\n",
    "##Scipy for SDA\n",
    "from scipy import stats as st\n",
    "\n",
    "##Matplotlib and Seaborn for visualization\n",
    "import matplotlib.pyplot as plt\n",
    "import seaborn as sns\n",
    "\n",
    "#SKLearn for ML\n",
    "import sklearn\n",
    "from sklearn.dummy import DummyRegressor\n",
    "from sklearn.linear_model import LinearRegression\n",
    "from sklearn.metrics import mean_squared_error, mean_absolute_error\n",
    "from sklearn.model_selection import train_test_split\n",
    "from sklearn.preprocessing import StandardScaler as ss"
   ]
  },
  {
   "cell_type": "markdown",
   "id": "459ddbdd",
   "metadata": {},
   "source": [
    "# CSV file read"
   ]
  },
  {
   "cell_type": "code",
   "execution_count": 2,
   "id": "15d7326b",
   "metadata": {},
   "outputs": [],
   "source": [
    "#We use try-except to handle unexpected errors\n",
    "try:\n",
    "    df0 = pd.read_csv('/Downloads/geo_data_0.csv')\n",
    "    df1 = pd.read_csv('/Downloads/geo_data_1.csv')\n",
    "    df2 = pd.read_csv('/Downloads/geo_data_2.csv')\n",
    "\n",
    "except:\n",
    "    df0 = pd.read_csv('https://code.s3.yandex.net/datasets/geo_data_0.csv')\n",
    "    df1 = pd.read_csv('https://code.s3.yandex.net/datasets/geo_data_1.csv')\n",
    "    df2 = pd.read_csv('https://code.s3.yandex.net/datasets/geo_data_2.csv')"
   ]
  },
  {
   "cell_type": "markdown",
   "id": "f97bf10b",
   "metadata": {},
   "source": [
    "# General info"
   ]
  },
  {
   "cell_type": "markdown",
   "id": "06c40b00",
   "metadata": {},
   "source": [
    "## Geo data 0"
   ]
  },
  {
   "cell_type": "code",
   "execution_count": 3,
   "id": "fb2694f5",
   "metadata": {},
   "outputs": [
    {
     "data": {
      "text/html": [
       "<div>\n",
       "<style scoped>\n",
       "    .dataframe tbody tr th:only-of-type {\n",
       "        vertical-align: middle;\n",
       "    }\n",
       "\n",
       "    .dataframe tbody tr th {\n",
       "        vertical-align: top;\n",
       "    }\n",
       "\n",
       "    .dataframe thead th {\n",
       "        text-align: right;\n",
       "    }\n",
       "</style>\n",
       "<table border=\"1\" class=\"dataframe\">\n",
       "  <thead>\n",
       "    <tr style=\"text-align: right;\">\n",
       "      <th></th>\n",
       "      <th>id</th>\n",
       "      <th>f0</th>\n",
       "      <th>f1</th>\n",
       "      <th>f2</th>\n",
       "      <th>product</th>\n",
       "    </tr>\n",
       "  </thead>\n",
       "  <tbody>\n",
       "    <tr>\n",
       "      <th>0</th>\n",
       "      <td>txEyH</td>\n",
       "      <td>0.705745</td>\n",
       "      <td>-0.497823</td>\n",
       "      <td>1.221170</td>\n",
       "      <td>105.280062</td>\n",
       "    </tr>\n",
       "    <tr>\n",
       "      <th>1</th>\n",
       "      <td>2acmU</td>\n",
       "      <td>1.334711</td>\n",
       "      <td>-0.340164</td>\n",
       "      <td>4.365080</td>\n",
       "      <td>73.037750</td>\n",
       "    </tr>\n",
       "    <tr>\n",
       "      <th>2</th>\n",
       "      <td>409Wp</td>\n",
       "      <td>1.022732</td>\n",
       "      <td>0.151990</td>\n",
       "      <td>1.419926</td>\n",
       "      <td>85.265647</td>\n",
       "    </tr>\n",
       "    <tr>\n",
       "      <th>3</th>\n",
       "      <td>iJLyR</td>\n",
       "      <td>-0.032172</td>\n",
       "      <td>0.139033</td>\n",
       "      <td>2.978566</td>\n",
       "      <td>168.620776</td>\n",
       "    </tr>\n",
       "    <tr>\n",
       "      <th>4</th>\n",
       "      <td>Xdl7t</td>\n",
       "      <td>1.988431</td>\n",
       "      <td>0.155413</td>\n",
       "      <td>4.751769</td>\n",
       "      <td>154.036647</td>\n",
       "    </tr>\n",
       "  </tbody>\n",
       "</table>\n",
       "</div>"
      ],
      "text/plain": [
       "      id        f0        f1        f2     product\n",
       "0  txEyH  0.705745 -0.497823  1.221170  105.280062\n",
       "1  2acmU  1.334711 -0.340164  4.365080   73.037750\n",
       "2  409Wp  1.022732  0.151990  1.419926   85.265647\n",
       "3  iJLyR -0.032172  0.139033  2.978566  168.620776\n",
       "4  Xdl7t  1.988431  0.155413  4.751769  154.036647"
      ]
     },
     "execution_count": 3,
     "metadata": {},
     "output_type": "execute_result"
    }
   ],
   "source": [
    "#First, in order to guarantee efficiency we immediately drop row-based duplicates\n",
    "df0.drop_duplicates(inplace=True, keep='last')\n",
    "df0.reset_index(drop=True, inplace=True)\n",
    "\n",
    "#Print the first five entries in the dataframe\n",
    "df0.head()"
   ]
  },
  {
   "cell_type": "markdown",
   "id": "8d32f41a",
   "metadata": {},
   "source": [
    "No NaN values."
   ]
  },
  {
   "cell_type": "code",
   "execution_count": 4,
   "id": "842d1a31",
   "metadata": {},
   "outputs": [
    {
     "name": "stdout",
     "output_type": "stream",
     "text": [
      "<class 'pandas.core.frame.DataFrame'>\n",
      "RangeIndex: 100000 entries, 0 to 99999\n",
      "Data columns (total 5 columns):\n",
      " #   Column   Non-Null Count   Dtype  \n",
      "---  ------   --------------   -----  \n",
      " 0   id       100000 non-null  object \n",
      " 1   f0       100000 non-null  float64\n",
      " 2   f1       100000 non-null  float64\n",
      " 3   f2       100000 non-null  float64\n",
      " 4   product  100000 non-null  float64\n",
      "dtypes: float64(4), object(1)\n",
      "memory usage: 3.8+ MB\n"
     ]
    }
   ],
   "source": [
    "#General file examination (missing values and data types)\n",
    "df0.info()"
   ]
  },
  {
   "cell_type": "markdown",
   "id": "a62c96d9",
   "metadata": {},
   "source": [
    "- Results show column names are accurate to the project data description.\n",
    "- Dataset includes 100000 entries and 5 columns.\n",
    "- No missing values.\n",
    "- Data types seem fine."
   ]
  },
  {
   "cell_type": "code",
   "execution_count": 5,
   "id": "ea3afdf4",
   "metadata": {
    "scrolled": true
   },
   "outputs": [
    {
     "data": {
      "text/html": [
       "<div>\n",
       "<style scoped>\n",
       "    .dataframe tbody tr th:only-of-type {\n",
       "        vertical-align: middle;\n",
       "    }\n",
       "\n",
       "    .dataframe tbody tr th {\n",
       "        vertical-align: top;\n",
       "    }\n",
       "\n",
       "    .dataframe thead th {\n",
       "        text-align: right;\n",
       "    }\n",
       "</style>\n",
       "<table border=\"1\" class=\"dataframe\">\n",
       "  <thead>\n",
       "    <tr style=\"text-align: right;\">\n",
       "      <th></th>\n",
       "      <th>id</th>\n",
       "      <th>f0</th>\n",
       "      <th>f1</th>\n",
       "      <th>f2</th>\n",
       "      <th>product</th>\n",
       "    </tr>\n",
       "  </thead>\n",
       "  <tbody>\n",
       "    <tr>\n",
       "      <th>count</th>\n",
       "      <td>100000</td>\n",
       "      <td>100000.000000</td>\n",
       "      <td>100000.000000</td>\n",
       "      <td>100000.000000</td>\n",
       "      <td>100000.000000</td>\n",
       "    </tr>\n",
       "    <tr>\n",
       "      <th>unique</th>\n",
       "      <td>99990</td>\n",
       "      <td>NaN</td>\n",
       "      <td>NaN</td>\n",
       "      <td>NaN</td>\n",
       "      <td>NaN</td>\n",
       "    </tr>\n",
       "    <tr>\n",
       "      <th>top</th>\n",
       "      <td>A5aEY</td>\n",
       "      <td>NaN</td>\n",
       "      <td>NaN</td>\n",
       "      <td>NaN</td>\n",
       "      <td>NaN</td>\n",
       "    </tr>\n",
       "    <tr>\n",
       "      <th>freq</th>\n",
       "      <td>2</td>\n",
       "      <td>NaN</td>\n",
       "      <td>NaN</td>\n",
       "      <td>NaN</td>\n",
       "      <td>NaN</td>\n",
       "    </tr>\n",
       "    <tr>\n",
       "      <th>mean</th>\n",
       "      <td>NaN</td>\n",
       "      <td>0.500419</td>\n",
       "      <td>0.250143</td>\n",
       "      <td>2.502647</td>\n",
       "      <td>92.500000</td>\n",
       "    </tr>\n",
       "    <tr>\n",
       "      <th>std</th>\n",
       "      <td>NaN</td>\n",
       "      <td>0.871832</td>\n",
       "      <td>0.504433</td>\n",
       "      <td>3.248248</td>\n",
       "      <td>44.288691</td>\n",
       "    </tr>\n",
       "    <tr>\n",
       "      <th>min</th>\n",
       "      <td>NaN</td>\n",
       "      <td>-1.408605</td>\n",
       "      <td>-0.848218</td>\n",
       "      <td>-12.088328</td>\n",
       "      <td>0.000000</td>\n",
       "    </tr>\n",
       "    <tr>\n",
       "      <th>25%</th>\n",
       "      <td>NaN</td>\n",
       "      <td>-0.072580</td>\n",
       "      <td>-0.200881</td>\n",
       "      <td>0.287748</td>\n",
       "      <td>56.497507</td>\n",
       "    </tr>\n",
       "    <tr>\n",
       "      <th>50%</th>\n",
       "      <td>NaN</td>\n",
       "      <td>0.502360</td>\n",
       "      <td>0.250252</td>\n",
       "      <td>2.515969</td>\n",
       "      <td>91.849972</td>\n",
       "    </tr>\n",
       "    <tr>\n",
       "      <th>75%</th>\n",
       "      <td>NaN</td>\n",
       "      <td>1.073581</td>\n",
       "      <td>0.700646</td>\n",
       "      <td>4.715088</td>\n",
       "      <td>128.564089</td>\n",
       "    </tr>\n",
       "    <tr>\n",
       "      <th>max</th>\n",
       "      <td>NaN</td>\n",
       "      <td>2.362331</td>\n",
       "      <td>1.343769</td>\n",
       "      <td>16.003790</td>\n",
       "      <td>185.364347</td>\n",
       "    </tr>\n",
       "  </tbody>\n",
       "</table>\n",
       "</div>"
      ],
      "text/plain": [
       "            id             f0             f1             f2        product\n",
       "count   100000  100000.000000  100000.000000  100000.000000  100000.000000\n",
       "unique   99990            NaN            NaN            NaN            NaN\n",
       "top      A5aEY            NaN            NaN            NaN            NaN\n",
       "freq         2            NaN            NaN            NaN            NaN\n",
       "mean       NaN       0.500419       0.250143       2.502647      92.500000\n",
       "std        NaN       0.871832       0.504433       3.248248      44.288691\n",
       "min        NaN      -1.408605      -0.848218     -12.088328       0.000000\n",
       "25%        NaN      -0.072580      -0.200881       0.287748      56.497507\n",
       "50%        NaN       0.502360       0.250252       2.515969      91.849972\n",
       "75%        NaN       1.073581       0.700646       4.715088     128.564089\n",
       "max        NaN       2.362331       1.343769      16.003790     185.364347"
      ]
     },
     "execution_count": 5,
     "metadata": {},
     "output_type": "execute_result"
    }
   ],
   "source": [
    "#Integrated display of the columns\n",
    "df0.describe(include='all')"
   ]
  },
  {
   "cell_type": "markdown",
   "id": "ebc21032",
   "metadata": {},
   "source": [
    "- `f0`, `f1`, `f2` features in all 3 dataframes seem to be normally distributed with close mean and median values.\n",
    "- Target variable is continuous, so we will need to use a regression model for predictions. The target's distribution also seems normal."
   ]
  },
  {
   "cell_type": "markdown",
   "id": "287e50a2",
   "metadata": {},
   "source": [
    "## Geo data 1"
   ]
  },
  {
   "cell_type": "code",
   "execution_count": 6,
   "id": "4a630837",
   "metadata": {},
   "outputs": [
    {
     "data": {
      "text/html": [
       "<div>\n",
       "<style scoped>\n",
       "    .dataframe tbody tr th:only-of-type {\n",
       "        vertical-align: middle;\n",
       "    }\n",
       "\n",
       "    .dataframe tbody tr th {\n",
       "        vertical-align: top;\n",
       "    }\n",
       "\n",
       "    .dataframe thead th {\n",
       "        text-align: right;\n",
       "    }\n",
       "</style>\n",
       "<table border=\"1\" class=\"dataframe\">\n",
       "  <thead>\n",
       "    <tr style=\"text-align: right;\">\n",
       "      <th></th>\n",
       "      <th>id</th>\n",
       "      <th>f0</th>\n",
       "      <th>f1</th>\n",
       "      <th>f2</th>\n",
       "      <th>product</th>\n",
       "    </tr>\n",
       "  </thead>\n",
       "  <tbody>\n",
       "    <tr>\n",
       "      <th>0</th>\n",
       "      <td>kBEdx</td>\n",
       "      <td>-15.001348</td>\n",
       "      <td>-8.276000</td>\n",
       "      <td>-0.005876</td>\n",
       "      <td>3.179103</td>\n",
       "    </tr>\n",
       "    <tr>\n",
       "      <th>1</th>\n",
       "      <td>62mP7</td>\n",
       "      <td>14.272088</td>\n",
       "      <td>-3.475083</td>\n",
       "      <td>0.999183</td>\n",
       "      <td>26.953261</td>\n",
       "    </tr>\n",
       "    <tr>\n",
       "      <th>2</th>\n",
       "      <td>vyE1P</td>\n",
       "      <td>6.263187</td>\n",
       "      <td>-5.948386</td>\n",
       "      <td>5.001160</td>\n",
       "      <td>134.766305</td>\n",
       "    </tr>\n",
       "    <tr>\n",
       "      <th>3</th>\n",
       "      <td>KcrkZ</td>\n",
       "      <td>-13.081196</td>\n",
       "      <td>-11.506057</td>\n",
       "      <td>4.999415</td>\n",
       "      <td>137.945408</td>\n",
       "    </tr>\n",
       "    <tr>\n",
       "      <th>4</th>\n",
       "      <td>AHL4O</td>\n",
       "      <td>12.702195</td>\n",
       "      <td>-8.147433</td>\n",
       "      <td>5.004363</td>\n",
       "      <td>134.766305</td>\n",
       "    </tr>\n",
       "  </tbody>\n",
       "</table>\n",
       "</div>"
      ],
      "text/plain": [
       "      id         f0         f1        f2     product\n",
       "0  kBEdx -15.001348  -8.276000 -0.005876    3.179103\n",
       "1  62mP7  14.272088  -3.475083  0.999183   26.953261\n",
       "2  vyE1P   6.263187  -5.948386  5.001160  134.766305\n",
       "3  KcrkZ -13.081196 -11.506057  4.999415  137.945408\n",
       "4  AHL4O  12.702195  -8.147433  5.004363  134.766305"
      ]
     },
     "execution_count": 6,
     "metadata": {},
     "output_type": "execute_result"
    }
   ],
   "source": [
    "#First, in order to guarantee efficiency we immediately drop row-based duplicates\n",
    "df1.drop_duplicates(inplace=True, keep='last')\n",
    "df1.reset_index(drop=True, inplace=True)\n",
    "\n",
    "#Print the first five entries in the dataframe\n",
    "df1.head()"
   ]
  },
  {
   "cell_type": "markdown",
   "id": "1ab0a407",
   "metadata": {},
   "source": [
    "No NaN values."
   ]
  },
  {
   "cell_type": "code",
   "execution_count": 7,
   "id": "da2c961c",
   "metadata": {},
   "outputs": [
    {
     "name": "stdout",
     "output_type": "stream",
     "text": [
      "<class 'pandas.core.frame.DataFrame'>\n",
      "RangeIndex: 100000 entries, 0 to 99999\n",
      "Data columns (total 5 columns):\n",
      " #   Column   Non-Null Count   Dtype  \n",
      "---  ------   --------------   -----  \n",
      " 0   id       100000 non-null  object \n",
      " 1   f0       100000 non-null  float64\n",
      " 2   f1       100000 non-null  float64\n",
      " 3   f2       100000 non-null  float64\n",
      " 4   product  100000 non-null  float64\n",
      "dtypes: float64(4), object(1)\n",
      "memory usage: 3.8+ MB\n"
     ]
    }
   ],
   "source": [
    "#General file examination (missing values and data types)\n",
    "df1.info()"
   ]
  },
  {
   "cell_type": "markdown",
   "id": "9d11cd1e",
   "metadata": {},
   "source": [
    "- Results show column names are accurate to the project data description.\n",
    "- Dataset includes 100000 entries and 5 columns.\n",
    "- No missing values.\n",
    "- Data types seem fine."
   ]
  },
  {
   "cell_type": "code",
   "execution_count": 8,
   "id": "27939805",
   "metadata": {
    "scrolled": true
   },
   "outputs": [
    {
     "data": {
      "text/html": [
       "<div>\n",
       "<style scoped>\n",
       "    .dataframe tbody tr th:only-of-type {\n",
       "        vertical-align: middle;\n",
       "    }\n",
       "\n",
       "    .dataframe tbody tr th {\n",
       "        vertical-align: top;\n",
       "    }\n",
       "\n",
       "    .dataframe thead th {\n",
       "        text-align: right;\n",
       "    }\n",
       "</style>\n",
       "<table border=\"1\" class=\"dataframe\">\n",
       "  <thead>\n",
       "    <tr style=\"text-align: right;\">\n",
       "      <th></th>\n",
       "      <th>id</th>\n",
       "      <th>f0</th>\n",
       "      <th>f1</th>\n",
       "      <th>f2</th>\n",
       "      <th>product</th>\n",
       "    </tr>\n",
       "  </thead>\n",
       "  <tbody>\n",
       "    <tr>\n",
       "      <th>count</th>\n",
       "      <td>100000</td>\n",
       "      <td>100000.000000</td>\n",
       "      <td>100000.000000</td>\n",
       "      <td>100000.000000</td>\n",
       "      <td>100000.000000</td>\n",
       "    </tr>\n",
       "    <tr>\n",
       "      <th>unique</th>\n",
       "      <td>99996</td>\n",
       "      <td>NaN</td>\n",
       "      <td>NaN</td>\n",
       "      <td>NaN</td>\n",
       "      <td>NaN</td>\n",
       "    </tr>\n",
       "    <tr>\n",
       "      <th>top</th>\n",
       "      <td>LHZR0</td>\n",
       "      <td>NaN</td>\n",
       "      <td>NaN</td>\n",
       "      <td>NaN</td>\n",
       "      <td>NaN</td>\n",
       "    </tr>\n",
       "    <tr>\n",
       "      <th>freq</th>\n",
       "      <td>2</td>\n",
       "      <td>NaN</td>\n",
       "      <td>NaN</td>\n",
       "      <td>NaN</td>\n",
       "      <td>NaN</td>\n",
       "    </tr>\n",
       "    <tr>\n",
       "      <th>mean</th>\n",
       "      <td>NaN</td>\n",
       "      <td>1.141296</td>\n",
       "      <td>-4.796579</td>\n",
       "      <td>2.494541</td>\n",
       "      <td>68.825000</td>\n",
       "    </tr>\n",
       "    <tr>\n",
       "      <th>std</th>\n",
       "      <td>NaN</td>\n",
       "      <td>8.965932</td>\n",
       "      <td>5.119872</td>\n",
       "      <td>1.703572</td>\n",
       "      <td>45.944423</td>\n",
       "    </tr>\n",
       "    <tr>\n",
       "      <th>min</th>\n",
       "      <td>NaN</td>\n",
       "      <td>-31.609576</td>\n",
       "      <td>-26.358598</td>\n",
       "      <td>-0.018144</td>\n",
       "      <td>0.000000</td>\n",
       "    </tr>\n",
       "    <tr>\n",
       "      <th>25%</th>\n",
       "      <td>NaN</td>\n",
       "      <td>-6.298551</td>\n",
       "      <td>-8.267985</td>\n",
       "      <td>1.000021</td>\n",
       "      <td>26.953261</td>\n",
       "    </tr>\n",
       "    <tr>\n",
       "      <th>50%</th>\n",
       "      <td>NaN</td>\n",
       "      <td>1.153055</td>\n",
       "      <td>-4.813172</td>\n",
       "      <td>2.011479</td>\n",
       "      <td>57.085625</td>\n",
       "    </tr>\n",
       "    <tr>\n",
       "      <th>75%</th>\n",
       "      <td>NaN</td>\n",
       "      <td>8.621015</td>\n",
       "      <td>-1.332816</td>\n",
       "      <td>3.999904</td>\n",
       "      <td>107.813044</td>\n",
       "    </tr>\n",
       "    <tr>\n",
       "      <th>max</th>\n",
       "      <td>NaN</td>\n",
       "      <td>29.421755</td>\n",
       "      <td>18.734063</td>\n",
       "      <td>5.019721</td>\n",
       "      <td>137.945408</td>\n",
       "    </tr>\n",
       "  </tbody>\n",
       "</table>\n",
       "</div>"
      ],
      "text/plain": [
       "            id             f0             f1             f2        product\n",
       "count   100000  100000.000000  100000.000000  100000.000000  100000.000000\n",
       "unique   99996            NaN            NaN            NaN            NaN\n",
       "top      LHZR0            NaN            NaN            NaN            NaN\n",
       "freq         2            NaN            NaN            NaN            NaN\n",
       "mean       NaN       1.141296      -4.796579       2.494541      68.825000\n",
       "std        NaN       8.965932       5.119872       1.703572      45.944423\n",
       "min        NaN     -31.609576     -26.358598      -0.018144       0.000000\n",
       "25%        NaN      -6.298551      -8.267985       1.000021      26.953261\n",
       "50%        NaN       1.153055      -4.813172       2.011479      57.085625\n",
       "75%        NaN       8.621015      -1.332816       3.999904     107.813044\n",
       "max        NaN      29.421755      18.734063       5.019721     137.945408"
      ]
     },
     "execution_count": 8,
     "metadata": {},
     "output_type": "execute_result"
    }
   ],
   "source": [
    "#Integrated display of the columns\n",
    "df1.describe(include='all')"
   ]
  },
  {
   "cell_type": "markdown",
   "id": "34e166c2",
   "metadata": {},
   "source": [
    "- `f0`, `f1`, `f2` features in all 3 dataframes seem to be normally distributed with close mean and median values.\n",
    "- Target variable is continuous, so we will need to use a regression model for predictions. The target's distribution also seems normal."
   ]
  },
  {
   "cell_type": "markdown",
   "id": "16bfdb12",
   "metadata": {},
   "source": [
    "## Geo data 2"
   ]
  },
  {
   "cell_type": "code",
   "execution_count": 9,
   "id": "3c08ecce",
   "metadata": {},
   "outputs": [
    {
     "data": {
      "text/html": [
       "<div>\n",
       "<style scoped>\n",
       "    .dataframe tbody tr th:only-of-type {\n",
       "        vertical-align: middle;\n",
       "    }\n",
       "\n",
       "    .dataframe tbody tr th {\n",
       "        vertical-align: top;\n",
       "    }\n",
       "\n",
       "    .dataframe thead th {\n",
       "        text-align: right;\n",
       "    }\n",
       "</style>\n",
       "<table border=\"1\" class=\"dataframe\">\n",
       "  <thead>\n",
       "    <tr style=\"text-align: right;\">\n",
       "      <th></th>\n",
       "      <th>id</th>\n",
       "      <th>f0</th>\n",
       "      <th>f1</th>\n",
       "      <th>f2</th>\n",
       "      <th>product</th>\n",
       "    </tr>\n",
       "  </thead>\n",
       "  <tbody>\n",
       "    <tr>\n",
       "      <th>0</th>\n",
       "      <td>fwXo0</td>\n",
       "      <td>-1.146987</td>\n",
       "      <td>0.963328</td>\n",
       "      <td>-0.828965</td>\n",
       "      <td>27.758673</td>\n",
       "    </tr>\n",
       "    <tr>\n",
       "      <th>1</th>\n",
       "      <td>WJtFt</td>\n",
       "      <td>0.262778</td>\n",
       "      <td>0.269839</td>\n",
       "      <td>-2.530187</td>\n",
       "      <td>56.069697</td>\n",
       "    </tr>\n",
       "    <tr>\n",
       "      <th>2</th>\n",
       "      <td>ovLUW</td>\n",
       "      <td>0.194587</td>\n",
       "      <td>0.289035</td>\n",
       "      <td>-5.586433</td>\n",
       "      <td>62.871910</td>\n",
       "    </tr>\n",
       "    <tr>\n",
       "      <th>3</th>\n",
       "      <td>q6cA6</td>\n",
       "      <td>2.236060</td>\n",
       "      <td>-0.553760</td>\n",
       "      <td>0.930038</td>\n",
       "      <td>114.572842</td>\n",
       "    </tr>\n",
       "    <tr>\n",
       "      <th>4</th>\n",
       "      <td>WPMUX</td>\n",
       "      <td>-0.515993</td>\n",
       "      <td>1.716266</td>\n",
       "      <td>5.899011</td>\n",
       "      <td>149.600746</td>\n",
       "    </tr>\n",
       "  </tbody>\n",
       "</table>\n",
       "</div>"
      ],
      "text/plain": [
       "      id        f0        f1        f2     product\n",
       "0  fwXo0 -1.146987  0.963328 -0.828965   27.758673\n",
       "1  WJtFt  0.262778  0.269839 -2.530187   56.069697\n",
       "2  ovLUW  0.194587  0.289035 -5.586433   62.871910\n",
       "3  q6cA6  2.236060 -0.553760  0.930038  114.572842\n",
       "4  WPMUX -0.515993  1.716266  5.899011  149.600746"
      ]
     },
     "execution_count": 9,
     "metadata": {},
     "output_type": "execute_result"
    }
   ],
   "source": [
    "#First, in order to guarantee efficiency we immediately drop row-based duplicates\n",
    "df2.drop_duplicates(inplace=True,keep='last')\n",
    "df2.reset_index(drop=True, inplace=True)\n",
    "\n",
    "#Print the first five entries in the dataframe\n",
    "df2.head()"
   ]
  },
  {
   "cell_type": "markdown",
   "id": "7af42961",
   "metadata": {},
   "source": [
    "No NaN values."
   ]
  },
  {
   "cell_type": "code",
   "execution_count": 10,
   "id": "c08914c4",
   "metadata": {},
   "outputs": [
    {
     "name": "stdout",
     "output_type": "stream",
     "text": [
      "<class 'pandas.core.frame.DataFrame'>\n",
      "RangeIndex: 100000 entries, 0 to 99999\n",
      "Data columns (total 5 columns):\n",
      " #   Column   Non-Null Count   Dtype  \n",
      "---  ------   --------------   -----  \n",
      " 0   id       100000 non-null  object \n",
      " 1   f0       100000 non-null  float64\n",
      " 2   f1       100000 non-null  float64\n",
      " 3   f2       100000 non-null  float64\n",
      " 4   product  100000 non-null  float64\n",
      "dtypes: float64(4), object(1)\n",
      "memory usage: 3.8+ MB\n"
     ]
    }
   ],
   "source": [
    "#General file examination (missing values and data types)\n",
    "df2.info()"
   ]
  },
  {
   "cell_type": "markdown",
   "id": "41191b10",
   "metadata": {},
   "source": [
    "- Results show column names are accurate to the project data description.\n",
    "- Dataset includes 100000 entries and 5 columns.\n",
    "- No missing values.\n",
    "- Data types seem fine."
   ]
  },
  {
   "cell_type": "code",
   "execution_count": 11,
   "id": "460b5b32",
   "metadata": {
    "scrolled": true
   },
   "outputs": [
    {
     "data": {
      "text/html": [
       "<div>\n",
       "<style scoped>\n",
       "    .dataframe tbody tr th:only-of-type {\n",
       "        vertical-align: middle;\n",
       "    }\n",
       "\n",
       "    .dataframe tbody tr th {\n",
       "        vertical-align: top;\n",
       "    }\n",
       "\n",
       "    .dataframe thead th {\n",
       "        text-align: right;\n",
       "    }\n",
       "</style>\n",
       "<table border=\"1\" class=\"dataframe\">\n",
       "  <thead>\n",
       "    <tr style=\"text-align: right;\">\n",
       "      <th></th>\n",
       "      <th>id</th>\n",
       "      <th>f0</th>\n",
       "      <th>f1</th>\n",
       "      <th>f2</th>\n",
       "      <th>product</th>\n",
       "    </tr>\n",
       "  </thead>\n",
       "  <tbody>\n",
       "    <tr>\n",
       "      <th>count</th>\n",
       "      <td>100000</td>\n",
       "      <td>100000.000000</td>\n",
       "      <td>100000.000000</td>\n",
       "      <td>100000.000000</td>\n",
       "      <td>100000.000000</td>\n",
       "    </tr>\n",
       "    <tr>\n",
       "      <th>unique</th>\n",
       "      <td>99996</td>\n",
       "      <td>NaN</td>\n",
       "      <td>NaN</td>\n",
       "      <td>NaN</td>\n",
       "      <td>NaN</td>\n",
       "    </tr>\n",
       "    <tr>\n",
       "      <th>top</th>\n",
       "      <td>KUPhW</td>\n",
       "      <td>NaN</td>\n",
       "      <td>NaN</td>\n",
       "      <td>NaN</td>\n",
       "      <td>NaN</td>\n",
       "    </tr>\n",
       "    <tr>\n",
       "      <th>freq</th>\n",
       "      <td>2</td>\n",
       "      <td>NaN</td>\n",
       "      <td>NaN</td>\n",
       "      <td>NaN</td>\n",
       "      <td>NaN</td>\n",
       "    </tr>\n",
       "    <tr>\n",
       "      <th>mean</th>\n",
       "      <td>NaN</td>\n",
       "      <td>0.002023</td>\n",
       "      <td>-0.002081</td>\n",
       "      <td>2.495128</td>\n",
       "      <td>95.000000</td>\n",
       "    </tr>\n",
       "    <tr>\n",
       "      <th>std</th>\n",
       "      <td>NaN</td>\n",
       "      <td>1.732045</td>\n",
       "      <td>1.730417</td>\n",
       "      <td>3.473445</td>\n",
       "      <td>44.749921</td>\n",
       "    </tr>\n",
       "    <tr>\n",
       "      <th>min</th>\n",
       "      <td>NaN</td>\n",
       "      <td>-8.760004</td>\n",
       "      <td>-7.084020</td>\n",
       "      <td>-11.970335</td>\n",
       "      <td>0.000000</td>\n",
       "    </tr>\n",
       "    <tr>\n",
       "      <th>25%</th>\n",
       "      <td>NaN</td>\n",
       "      <td>-1.162288</td>\n",
       "      <td>-1.174820</td>\n",
       "      <td>0.130359</td>\n",
       "      <td>59.450441</td>\n",
       "    </tr>\n",
       "    <tr>\n",
       "      <th>50%</th>\n",
       "      <td>NaN</td>\n",
       "      <td>0.009424</td>\n",
       "      <td>-0.009482</td>\n",
       "      <td>2.484236</td>\n",
       "      <td>94.925613</td>\n",
       "    </tr>\n",
       "    <tr>\n",
       "      <th>75%</th>\n",
       "      <td>NaN</td>\n",
       "      <td>1.158535</td>\n",
       "      <td>1.163678</td>\n",
       "      <td>4.858794</td>\n",
       "      <td>130.595027</td>\n",
       "    </tr>\n",
       "    <tr>\n",
       "      <th>max</th>\n",
       "      <td>NaN</td>\n",
       "      <td>7.238262</td>\n",
       "      <td>7.844801</td>\n",
       "      <td>16.739402</td>\n",
       "      <td>190.029838</td>\n",
       "    </tr>\n",
       "  </tbody>\n",
       "</table>\n",
       "</div>"
      ],
      "text/plain": [
       "            id             f0             f1             f2        product\n",
       "count   100000  100000.000000  100000.000000  100000.000000  100000.000000\n",
       "unique   99996            NaN            NaN            NaN            NaN\n",
       "top      KUPhW            NaN            NaN            NaN            NaN\n",
       "freq         2            NaN            NaN            NaN            NaN\n",
       "mean       NaN       0.002023      -0.002081       2.495128      95.000000\n",
       "std        NaN       1.732045       1.730417       3.473445      44.749921\n",
       "min        NaN      -8.760004      -7.084020     -11.970335       0.000000\n",
       "25%        NaN      -1.162288      -1.174820       0.130359      59.450441\n",
       "50%        NaN       0.009424      -0.009482       2.484236      94.925613\n",
       "75%        NaN       1.158535       1.163678       4.858794     130.595027\n",
       "max        NaN       7.238262       7.844801      16.739402     190.029838"
      ]
     },
     "execution_count": 11,
     "metadata": {},
     "output_type": "execute_result"
    }
   ],
   "source": [
    "#Integrated display of the columns\n",
    "df2.describe(include='all')"
   ]
  },
  {
   "cell_type": "markdown",
   "id": "fbc4d105",
   "metadata": {},
   "source": [
    "- `f0`, `f1`, `f2` features in all 3 dataframes seem to be normally distributed with close mean and median values.\n",
    "- Target variable is continuous, so we will need to use a regression model for predictions. The target's distribution also seems normal."
   ]
  },
  {
   "cell_type": "markdown",
   "id": "e19269e2",
   "metadata": {},
   "source": [
    "# Model "
   ]
  },
  {
   "cell_type": "code",
   "execution_count": 12,
   "id": "78b5e861",
   "metadata": {},
   "outputs": [],
   "source": [
    "#Defining and running function to split data into train and valid sets at 75:25 ratio (X-features, y-target), train and predict\n",
    "def modeling(df):\n",
    "    X = df.drop(['id', 'product'], axis=1)\n",
    "    y = df['product']\n",
    "    X_train, X_valid, y_train, y_valid = train_test_split(X, y, test_size=0.25, random_state=12345)\n",
    "\n",
    "    sc = ss()\n",
    "    X_train_scaled = sc.fit_transform(X_train)\n",
    "    X_valid_scaled = sc.transform(X_valid)\n",
    "    X_train = pd.DataFrame(data=X_train_scaled, index=X_train.index, columns=X_train.columns)\n",
    "    X_valid = pd.DataFrame(data=X_valid_scaled, index=X_valid.index, columns=X_valid.columns)\n",
    "\n",
    "    base = DummyRegressor(strategy='mean')\n",
    "    base.fit(X_train, y_train)\n",
    "    y_pred = base.predict(X_valid)\n",
    "    rmse_baseline = round(mean_squared_error(y_valid, y_pred)**0.5, 2)\n",
    "\n",
    "    model = LinearRegression()\n",
    "    model.fit(X_train, y_train)\n",
    "    predicted_valid = model.predict(X_valid)\n",
    "    mse = mean_squared_error(y_valid, predicted_valid)\n",
    "    rmse = round(mse**0.5, 2)\n",
    "    predicted_valid_mean = round(predicted_valid.mean(), 2)\n",
    "\n",
    "    return model, X_valid, y_valid, rmse_baseline, rmse, predicted_valid_mean\n",
    "\n",
    "\n",
    "model0, X_v0, y_v0, rmse_bl0, rmse0, pred_v_mean0 = modeling(df0)\n",
    "model1, X_v1, y_v1, rmse_bl1, rmse1, pred_v_mean1 = modeling(df1)\n",
    "model2, X_v2, y_v2, rmse_bl2, rmse2, pred_v_mean2 = modeling(df2)"
   ]
  },
  {
   "cell_type": "code",
   "execution_count": 13,
   "id": "56a319ea",
   "metadata": {
    "scrolled": true
   },
   "outputs": [
    {
     "data": {
      "text/html": [
       "<div>\n",
       "<style scoped>\n",
       "    .dataframe tbody tr th:only-of-type {\n",
       "        vertical-align: middle;\n",
       "    }\n",
       "\n",
       "    .dataframe tbody tr th {\n",
       "        vertical-align: top;\n",
       "    }\n",
       "\n",
       "    .dataframe thead th {\n",
       "        text-align: right;\n",
       "    }\n",
       "</style>\n",
       "<table border=\"1\" class=\"dataframe\">\n",
       "  <thead>\n",
       "    <tr style=\"text-align: right;\">\n",
       "      <th></th>\n",
       "      <th>baseline</th>\n",
       "      <th>rmse</th>\n",
       "      <th>avg. volume</th>\n",
       "      <th>predicted avg. volume</th>\n",
       "      <th>error %</th>\n",
       "    </tr>\n",
       "    <tr>\n",
       "      <th>region</th>\n",
       "      <th></th>\n",
       "      <th></th>\n",
       "      <th></th>\n",
       "      <th></th>\n",
       "      <th></th>\n",
       "    </tr>\n",
       "  </thead>\n",
       "  <tbody>\n",
       "    <tr>\n",
       "      <th>0</th>\n",
       "      <td>44.29</td>\n",
       "      <td>37.58</td>\n",
       "      <td>92.50</td>\n",
       "      <td>92.59</td>\n",
       "      <td>41.0</td>\n",
       "    </tr>\n",
       "    <tr>\n",
       "      <th>1</th>\n",
       "      <td>46.02</td>\n",
       "      <td>0.89</td>\n",
       "      <td>68.83</td>\n",
       "      <td>68.73</td>\n",
       "      <td>1.0</td>\n",
       "    </tr>\n",
       "    <tr>\n",
       "      <th>2</th>\n",
       "      <td>44.90</td>\n",
       "      <td>40.03</td>\n",
       "      <td>95.00</td>\n",
       "      <td>94.97</td>\n",
       "      <td>42.0</td>\n",
       "    </tr>\n",
       "  </tbody>\n",
       "</table>\n",
       "</div>"
      ],
      "text/plain": [
       "        baseline   rmse  avg. volume  predicted avg. volume  error %\n",
       "region                                                              \n",
       "0          44.29  37.58        92.50                  92.59     41.0\n",
       "1          46.02   0.89        68.83                  68.73      1.0\n",
       "2          44.90  40.03        95.00                  94.97     42.0"
      ]
     },
     "execution_count": 13,
     "metadata": {},
     "output_type": "execute_result"
    }
   ],
   "source": [
    "#Calculating and printing average volume of predicted reserves and RMSE\n",
    "models = pd.DataFrame({\n",
    "    'region': ['0', '1', '2'],\n",
    "    'baseline': [rmse_bl0, rmse_bl1, rmse_bl2],\n",
    "    'rmse': [rmse0, rmse1, rmse2],\n",
    "    'avg. volume': [\n",
    "        round(df0['product'].mean(), 2),\n",
    "        round(df1['product'].mean(), 2),\n",
    "        round(df2['product'].mean(), 2)],\n",
    "    'predicted avg. volume': [pred_v_mean0, pred_v_mean1, pred_v_mean2]})\n",
    "\n",
    "models['error %'] = round(models['rmse'] / models['predicted avg. volume'], 2) * 100\n",
    "\n",
    "models = models.set_index('region')\n",
    "\n",
    "models"
   ]
  },
  {
   "cell_type": "markdown",
   "id": "c6c6f724",
   "metadata": {},
   "source": [
    "All 3 models' RMSE is lower than the baseline, therefore models are slightly better than average estimate, with the exception of Region1 which also has a lower reserves' average predicted volume than others. \n",
    "\n",
    "We calculated percentage of model `error %` compared to average reserves' predicted volume. Error is over 40% in regions 0 and 2 yet only 1% in region 1.\n",
    "\n",
    "Actual and predicted reserves' volumes are similar in all 3 regions."
   ]
  },
  {
   "cell_type": "markdown",
   "id": "3708d656",
   "metadata": {},
   "source": [
    "# Profit"
   ]
  },
  {
   "cell_type": "markdown",
   "id": "1e2d5d7a",
   "metadata": {},
   "source": [
    "## Preparation"
   ]
  },
  {
   "cell_type": "code",
   "execution_count": 14,
   "id": "cf8d44ca",
   "metadata": {},
   "outputs": [
    {
     "data": {
      "text/html": [
       "<div>\n",
       "<style scoped>\n",
       "    .dataframe tbody tr th:only-of-type {\n",
       "        vertical-align: middle;\n",
       "    }\n",
       "\n",
       "    .dataframe tbody tr th {\n",
       "        vertical-align: top;\n",
       "    }\n",
       "\n",
       "    .dataframe thead th {\n",
       "        text-align: right;\n",
       "    }\n",
       "</style>\n",
       "<table border=\"1\" class=\"dataframe\">\n",
       "  <thead>\n",
       "    <tr style=\"text-align: right;\">\n",
       "      <th></th>\n",
       "      <th>baseline</th>\n",
       "      <th>rmse</th>\n",
       "      <th>avg. volume</th>\n",
       "      <th>predicted avg. volume</th>\n",
       "      <th>error %</th>\n",
       "      <th>sufficient reserve volume</th>\n",
       "    </tr>\n",
       "    <tr>\n",
       "      <th>region</th>\n",
       "      <th></th>\n",
       "      <th></th>\n",
       "      <th></th>\n",
       "      <th></th>\n",
       "      <th></th>\n",
       "      <th></th>\n",
       "    </tr>\n",
       "  </thead>\n",
       "  <tbody>\n",
       "    <tr>\n",
       "      <th>0</th>\n",
       "      <td>44.29</td>\n",
       "      <td>37.58</td>\n",
       "      <td>92.50</td>\n",
       "      <td>92.59</td>\n",
       "      <td>41.0</td>\n",
       "      <td>111.11</td>\n",
       "    </tr>\n",
       "    <tr>\n",
       "      <th>1</th>\n",
       "      <td>46.02</td>\n",
       "      <td>0.89</td>\n",
       "      <td>68.83</td>\n",
       "      <td>68.73</td>\n",
       "      <td>1.0</td>\n",
       "      <td>111.11</td>\n",
       "    </tr>\n",
       "    <tr>\n",
       "      <th>2</th>\n",
       "      <td>44.90</td>\n",
       "      <td>40.03</td>\n",
       "      <td>95.00</td>\n",
       "      <td>94.97</td>\n",
       "      <td>42.0</td>\n",
       "      <td>111.11</td>\n",
       "    </tr>\n",
       "  </tbody>\n",
       "</table>\n",
       "</div>"
      ],
      "text/plain": [
       "        baseline   rmse  avg. volume  predicted avg. volume  error %  \\\n",
       "region                                                                 \n",
       "0          44.29  37.58        92.50                  92.59     41.0   \n",
       "1          46.02   0.89        68.83                  68.73      1.0   \n",
       "2          44.90  40.03        95.00                  94.97     42.0   \n",
       "\n",
       "        sufficient reserve volume  \n",
       "region                             \n",
       "0                          111.11  \n",
       "1                          111.11  \n",
       "2                          111.11  "
      ]
     },
     "execution_count": 14,
     "metadata": {},
     "output_type": "execute_result"
    }
   ],
   "source": [
    "#Storing key values\n",
    "N=500 #Number of points used in study\n",
    "COUNT = 200  #Best points out of 500\n",
    "BUDGET = 100000000  #USD for 200 wells\n",
    "BARREL_REVENUE = 4.5  #USD per barrel\n",
    "PRODUCT_REVENUE = 4500  #USD per product\n",
    "RESERVES = 1000  #Barrels\n",
    "\n",
    "#Calculating sufficient reserve volume to develop new well without losses\n",
    "min_volume = round(BUDGET / (PRODUCT_REVENUE * COUNT), 2)\n",
    "\n",
    "#Comparing obtained value with average reserve volume per region by adding min volume to existing models datarame\n",
    "models['sufficient reserve volume'] = [min_volume, min_volume, min_volume]\n",
    "\n",
    "models"
   ]
  },
  {
   "cell_type": "markdown",
   "id": "f24c4264",
   "metadata": {},
   "source": [
    "Min reserves' volume per well in new region must be at least 111.11K barrels in order to break even. All 3 regions' average reserves' predicted volume is lower. \n",
    "\n",
    "On avg. 200 random wells per region would result in a loss. To profit, we'll select most profitable wells per region to see if total reserves cover development cost."
   ]
  },
  {
   "cell_type": "markdown",
   "id": "c73d61d2",
   "metadata": {},
   "source": [
    "## Function"
   ]
  },
  {
   "cell_type": "code",
   "execution_count": 15,
   "id": "b819c59b",
   "metadata": {},
   "outputs": [
    {
     "data": {
      "text/html": [
       "<div>\n",
       "<style scoped>\n",
       "    .dataframe tbody tr th:only-of-type {\n",
       "        vertical-align: middle;\n",
       "    }\n",
       "\n",
       "    .dataframe tbody tr th {\n",
       "        vertical-align: top;\n",
       "    }\n",
       "\n",
       "    .dataframe thead th {\n",
       "        text-align: right;\n",
       "    }\n",
       "</style>\n",
       "<table border=\"1\" class=\"dataframe\">\n",
       "  <thead>\n",
       "    <tr style=\"text-align: right;\">\n",
       "      <th></th>\n",
       "      <th>Profit in USD millions</th>\n",
       "    </tr>\n",
       "    <tr>\n",
       "      <th>Region</th>\n",
       "      <th></th>\n",
       "    </tr>\n",
       "  </thead>\n",
       "  <tbody>\n",
       "    <tr>\n",
       "      <th>0</th>\n",
       "      <td>33.208260</td>\n",
       "    </tr>\n",
       "    <tr>\n",
       "      <th>1</th>\n",
       "      <td>24.150867</td>\n",
       "    </tr>\n",
       "    <tr>\n",
       "      <th>2</th>\n",
       "      <td>27.103500</td>\n",
       "    </tr>\n",
       "  </tbody>\n",
       "</table>\n",
       "</div>"
      ],
      "text/plain": [
       "        Profit in USD millions\n",
       "Region                        \n",
       "0                    33.208260\n",
       "1                    24.150867\n",
       "2                    27.103500"
      ]
     },
     "metadata": {},
     "output_type": "display_data"
    }
   ],
   "source": [
    "#Creating datarames for actual target values and predictions\n",
    "val0 = pd.DataFrame()\n",
    "val0['pred'] = model0.predict(X_v0)\n",
    "val0['actual'] = y_v0.values\n",
    "\n",
    "val1 = pd.DataFrame()\n",
    "val1['pred'] = model1.predict(X_v1)\n",
    "val1['actual'] = y_v1.values\n",
    "\n",
    "val2 = pd.DataFrame()\n",
    "val2['pred'] = model2.predict(X_v2)\n",
    "val2['actual'] = y_v2.values\n",
    "\n",
    "\n",
    "#Defining function to calculate profit per region\n",
    "def profit(target, pred):\n",
    "    target = pd.Series(target).reset_index(drop=True)\n",
    "    pred_sorted = pd.Series(pred).sort_values(ascending=False)\n",
    "    selected = target[pred_sorted.index][:COUNT]\n",
    "    return (((selected.sum() * (BARREL_REVENUE * RESERVES)) - BUDGET) / 1000000)\n",
    "\n",
    "#Running function\n",
    "profit0 = profit(val0['actual'], val0['pred'])\n",
    "profit1 = profit(val1['actual'], val1['pred'])\n",
    "profit2 = profit(val2['actual'], val2['pred'])\n",
    "\n",
    "#Creating and displaying dataframe\n",
    "profit_df = (pd.DataFrame([profit0, profit1, profit2], columns=['Profit']))\n",
    "profit_df = profit_df.reset_index()\n",
    "profit_df.columns = ['Region', 'Profit in USD millions']\n",
    "profit_df = profit_df.set_index('Region')\n",
    "display(profit_df)"
   ]
  },
  {
   "cell_type": "markdown",
   "id": "908016d1",
   "metadata": {},
   "source": [
    "Region0 has highest predicted profit of 33,208,260 USD thus is best for development."
   ]
  },
  {
   "cell_type": "code",
   "execution_count": 16,
   "id": "f65701ea",
   "metadata": {},
   "outputs": [
    {
     "name": "stdout",
     "output_type": "stream",
     "text": [
      "Region 0 top well: 9317    162.810993 \n",
      "\n",
      "Region 1 top well: 20430    137.945408 \n",
      "\n",
      "Region 2 top well: 22636    175.103291\n"
     ]
    }
   ],
   "source": [
    "#Defining function to find wells with highest predictions per region\n",
    "def top(target, pred):\n",
    "    target = pd.Series(target).reset_index(drop=True)\n",
    "    pred_sorted = pd.Series(pred).sort_values(ascending=False)\n",
    "    selected = target[pred_sorted.index][:COUNT]\n",
    "    return selected.head(1)\n",
    "\n",
    "\n",
    "#Running function\n",
    "print('Region 0 top well:',\n",
    "      top(val0['actual'], val0['pred']).to_string(), '\\n')\n",
    "print('Region 1 top well:',\n",
    "      top(val1['actual'], val1['pred']).to_string(), '\\n')\n",
    "print('Region 2 top well:', top(val2['actual'], val2['pred']).to_string())"
   ]
  },
  {
   "cell_type": "markdown",
   "id": "84c66512",
   "metadata": {},
   "source": [
    "Region2 has the most profitable well."
   ]
  },
  {
   "cell_type": "markdown",
   "id": "4de1b888",
   "metadata": {},
   "source": [
    "## Bootstrapping"
   ]
  },
  {
   "cell_type": "markdown",
   "id": "5b1fbf9b",
   "metadata": {},
   "source": [
    "Practically the company chooses 500 random wells, measures features' values (`f0`, `f1`, `f2`) and selects the best 200 wells for profit calculation.\n",
    "\n",
    "We'll use `np.random.RandomState()` for each new call's state to be randomized, resulting in different subsamples.\n",
    "\n",
    "Given same element should fall into a subsample several times, we'll use `replace=True` in `sample()` function."
   ]
  },
  {
   "cell_type": "code",
   "execution_count": 17,
   "id": "1b4abd3e",
   "metadata": {
    "scrolled": true
   },
   "outputs": [
    {
     "data": {
      "image/png": "[encoded data removed]",
      "text/plain": [
       "<Figure size 432x288 with 1 Axes>"
      ]
     },
     "metadata": {
      "needs_background": "light"
     },
     "output_type": "display_data"
    }
   ],
   "source": [
    "#Defining bootstrapping function to find profit distribution\n",
    "def bs_profit(target, pred):\n",
    "    pred_sorted = pred.sort_values(ascending=False)\n",
    "    target = target[pred_sorted.index][:COUNT]\n",
    "    return (((target.sum() * (BARREL_REVENUE * RESERVES)) - BUDGET))\n",
    "\n",
    "\n",
    "def bs(target, pred):\n",
    "    state = np.random.RandomState(12345)\n",
    "    profit = []\n",
    "    for i in range(1000):\n",
    "        target_subsample = target.sample(n=N, replace=True, random_state=state)\n",
    "        pred_subsample = pred[target_subsample.index]\n",
    "        profit.append(bs_profit(target_subsample, pred_subsample))\n",
    "    return pd.Series(profit)\n",
    "\n",
    "\n",
    "#Running function\n",
    "bs0 = bs(val0['actual'], val0['pred'])\n",
    "bs1 = bs(val1['actual'], val1['pred'])\n",
    "bs2 = bs(val2['actual'], val2['pred'])\n",
    "\n",
    "#Plotting\n",
    "sns.distplot(bs0, label='Region 0')\n",
    "sns.distplot(bs1, label='Region 1')\n",
    "sns.distplot(bs2, label='Region 2')\n",
    "plt.axvline(0, c=\"r\", ls='--')\n",
    "plt.title('Profit distribution per region')\n",
    "plt.legend();"
   ]
  },
  {
   "cell_type": "markdown",
   "id": "ea6bc06a",
   "metadata": {},
   "source": [
    "Histograms above depict it's unlikely for developers to lose. Bootstrapping with 1000 samples provides confidence given normal distributions.\n",
    "\n",
    "Biggest profit range part of all 3 regions is above the break-even point.\n",
    "\n",
    "Region1 has highest profit distribution and contains mostly positive values.\n",
    "Thus we suggest Region1 is selected for oil wells' development. \n",
    "\n",
    "Now, we'll conduct risk assessment to validate this."
   ]
  },
  {
   "cell_type": "markdown",
   "id": "c1fe9c94",
   "metadata": {},
   "source": [
    "## Loss risk, profit and 95% confidence interval"
   ]
  },
  {
   "cell_type": "markdown",
   "id": "953ef4d0",
   "metadata": {},
   "source": [
    "Company requires loss risk lower than 2.5% for new regions."
   ]
  },
  {
   "cell_type": "code",
   "execution_count": 18,
   "id": "bed348df",
   "metadata": {},
   "outputs": [],
   "source": [
    "#Defining function to find confidence interval, avg. profit loss risk per region\n",
    "def CI(profit):\n",
    "    ci = st.t.interval(0.95, len(profit)-1, profit.mean(), profit.sem())\n",
    "    risk = (profit < 0).mean()\n",
    "    print('Avg. region profit:',profit.mean())\n",
    "    print('95% confidence interval:', ci[0], ',' ,ci[1] )\n",
    "    print('Loss risk {:.2%}'.format(risk))\n",
    "    lower = profit.quantile(0.025)\n",
    "    upper = profit.quantile(0.975)\n",
    "    print('Quantile method confidence interval:', lower, ',',upper)"
   ]
  },
  {
   "cell_type": "code",
   "execution_count": 19,
   "id": "b4145c74",
   "metadata": {},
   "outputs": [
    {
     "name": "stdout",
     "output_type": "stream",
     "text": [
      "Avg. region profit: 4259385.269105929\n",
      "95% confidence interval: 4087322.0706869913 , 4431448.467524867\n",
      "Loss risk 6.00%\n",
      "Quantile method confidence interval: -1020900.9483793724 , 9479763.533583675\n"
     ]
    }
   ],
   "source": [
    "#Running function\n",
    "CI(bs0)"
   ]
  },
  {
   "cell_type": "code",
   "execution_count": 20,
   "id": "13b97186",
   "metadata": {},
   "outputs": [
    {
     "name": "stdout",
     "output_type": "stream",
     "text": [
      "Avg. region profit: 5152227.734432902\n",
      "95% confidence interval: 5016214.761763221 , 5288240.707102584\n",
      "Loss risk 1.00%\n",
      "Quantile method confidence interval: 688732.2537050088 , 9315475.912570495\n"
     ]
    }
   ],
   "source": [
    "CI(bs1)"
   ]
  },
  {
   "cell_type": "code",
   "execution_count": 21,
   "id": "7a004723",
   "metadata": {
    "scrolled": true
   },
   "outputs": [
    {
     "name": "stdout",
     "output_type": "stream",
     "text": [
      "Avg. region profit: 4350083.627827559\n",
      "95% confidence interval: 4174535.520413581 , 4525631.735241537\n",
      "Loss risk 6.40%\n",
      "Quantile method confidence interval: -1288805.473297878 , 9697069.541802654\n"
     ]
    }
   ],
   "source": [
    "CI(bs2)"
   ]
  },
  {
   "cell_type": "markdown",
   "id": "ebcbac82",
   "metadata": {},
   "source": [
    "Region 1 has highest avg. profit and lowest loss risk."
   ]
  },
  {
   "cell_type": "markdown",
   "id": "2fcf5cde",
   "metadata": {},
   "source": [
    "# Conclusion"
   ]
  },
  {
   "cell_type": "markdown",
   "id": "4bafa93c",
   "metadata": {},
   "source": [
    "We work for OilyGiant mining company. \n",
    "\n",
    "In this project our task was to find the best place for a new well by using data on oil samples from three regions. To accomplish this we built a  LinearRegression model to help pick the region with the highest profit margin and potential profit, and risks using bootstrapping technique.\n",
    "\n",
    "Results revealed the following: \n",
    "Region 1 has highest avg. profit 5152227.73 and lowest loss risk 1% and therefore we recommend to develop there."
   ]
  }
 ],
 "metadata": {
  "ExecuteTimeLog": [
   {
    "duration": 35162,
    "start_time": "2022-04-21T11:11:53.494Z"
   },
   {
    "duration": 1067,
    "start_time": "2022-04-21T11:12:28.658Z"
   },
   {
    "duration": 60,
    "start_time": "2022-04-21T11:12:47.004Z"
   },
   {
    "duration": 16,
    "start_time": "2022-04-21T11:12:47.269Z"
   },
   {
    "duration": 116,
    "start_time": "2022-04-21T11:12:47.588Z"
   },
   {
    "duration": 48,
    "start_time": "2022-04-21T11:12:47.998Z"
   },
   {
    "duration": 14,
    "start_time": "2022-04-21T11:12:48.275Z"
   },
   {
    "duration": 88,
    "start_time": "2022-04-21T11:12:48.843Z"
   },
   {
    "duration": 54,
    "start_time": "2022-04-21T11:12:49.275Z"
   },
   {
    "duration": 15,
    "start_time": "2022-04-21T11:12:49.547Z"
   },
   {
    "duration": 86,
    "start_time": "2022-04-21T11:12:49.845Z"
   },
   {
    "duration": 399,
    "start_time": "2022-04-21T11:12:50.369Z"
   },
   {
    "duration": 15,
    "start_time": "2022-04-21T11:12:51.050Z"
   },
   {
    "duration": 10,
    "start_time": "2022-04-21T11:12:52.019Z"
   },
   {
    "duration": 267,
    "start_time": "2022-04-21T11:12:52.899Z"
   },
   {
    "duration": 19,
    "start_time": "2022-04-21T11:12:53.757Z"
   },
   {
    "duration": 3740,
    "start_time": "2022-04-21T11:12:54.898Z"
   },
   {
    "duration": 4,
    "start_time": "2022-04-21T11:13:03.577Z"
   },
   {
    "duration": 7,
    "start_time": "2022-04-21T11:13:06.266Z"
   },
   {
    "duration": 8,
    "start_time": "2022-04-21T11:13:07.286Z"
   },
   {
    "duration": 7,
    "start_time": "2022-04-21T11:13:07.516Z"
   },
   {
    "duration": 6,
    "start_time": "2022-04-21T11:13:13.916Z"
   },
   {
    "duration": 5,
    "start_time": "2022-04-21T11:13:22.026Z"
   },
   {
    "duration": 6,
    "start_time": "2022-04-21T11:13:29.583Z"
   },
   {
    "duration": 4,
    "start_time": "2022-04-21T11:13:35.371Z"
   },
   {
    "duration": 6,
    "start_time": "2022-04-21T11:13:38.067Z"
   },
   {
    "duration": 5,
    "start_time": "2022-04-21T11:13:42.690Z"
   },
   {
    "duration": 7,
    "start_time": "2022-04-21T11:13:46.436Z"
   },
   {
    "duration": 5,
    "start_time": "2022-04-21T11:13:59.225Z"
   },
   {
    "duration": 5,
    "start_time": "2022-04-21T11:14:12.384Z"
   },
   {
    "duration": 6,
    "start_time": "2022-04-21T11:32:24.273Z"
   },
   {
    "duration": 5,
    "start_time": "2022-04-21T11:32:28.039Z"
   },
   {
    "duration": 6,
    "start_time": "2022-04-21T11:32:30.757Z"
   },
   {
    "duration": 5,
    "start_time": "2022-04-21T11:32:32.353Z"
   },
   {
    "duration": 5,
    "start_time": "2022-04-21T11:32:36.269Z"
   },
   {
    "duration": 5,
    "start_time": "2022-04-21T11:32:38.419Z"
   },
   {
    "duration": 14797,
    "start_time": "2022-04-21T11:33:55.019Z"
   },
   {
    "duration": 128,
    "start_time": "2022-04-21T11:34:48.339Z"
   },
   {
    "duration": 11189,
    "start_time": "2022-04-21T11:35:01.720Z"
   },
   {
    "duration": 5,
    "start_time": "2022-04-21T11:40:16.248Z"
   },
   {
    "duration": 4,
    "start_time": "2022-04-21T11:40:17.709Z"
   },
   {
    "duration": 6,
    "start_time": "2022-04-21T11:40:22.629Z"
   },
   {
    "duration": 6,
    "start_time": "2022-04-21T11:40:29.931Z"
   },
   {
    "duration": 9,
    "start_time": "2022-04-21T11:40:45.301Z"
   },
   {
    "duration": 7,
    "start_time": "2022-04-21T11:40:50.554Z"
   },
   {
    "duration": 6,
    "start_time": "2022-04-21T11:55:08.510Z"
   },
   {
    "duration": 7,
    "start_time": "2022-04-21T11:55:21.569Z"
   }
  ],
  "kernelspec": {
   "display_name": "Python 3",
   "language": "python",
   "name": "python3"
  },
  "language_info": {
   "codemirror_mode": {
    "name": "ipython",
    "version": 3
   },
   "file_extension": ".py",
   "mimetype": "text/x-python",
   "name": "python",
   "nbconvert_exporter": "python",
   "pygments_lexer": "ipython3",
   "version": "3.8.8"
  },
  "toc": {
   "base_numbering": 1,
   "nav_menu": {},
   "number_sections": true,
   "sideBar": true,
   "skip_h1_title": false,
   "title_cell": "Table of Contents",
   "title_sidebar": "Contents",
   "toc_cell": false,
   "toc_position": {
    "height": "calc(100% - 180px)",
    "left": "10px",
    "top": "150px",
    "width": "165px"
   },
   "toc_section_display": true,
   "toc_window_display": true
  }
 },
 "nbformat": 4,
 "nbformat_minor": 5
}
